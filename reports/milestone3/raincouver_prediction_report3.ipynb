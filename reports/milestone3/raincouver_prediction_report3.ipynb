{
 "cells": [
  {
   "cell_type": "markdown",
   "id": "7da72073-135d-43ea-b61a-dedd695c04dd",
   "metadata": {},
   "source": [
    "# Predicting precipitation in Vancouver"
   ]
  },
  {
   "cell_type": "markdown",
   "id": "5433cd72-8fa0-4658-b3ff-e5872fa6db0d",
   "metadata": {},
   "source": [
    "by Dan Zhang, Doris (Yun Yi) Cai, Hayley (Yi) Han & Sivakorn (Oak) Chong 2023/11/30"
   ]
  },
  {
   "cell_type": "code",
   "execution_count": 3,
   "id": "906b622d-f50f-4e85-bc96-9db2dddcbfa6",
   "metadata": {},
   "outputs": [],
   "source": [
    "import pandas as pd\n",
    "from myst_nb import glue\n",
    "import pickle\n",
    "#from sklearn import set_config"
   ]
  },
  {
   "cell_type": "markdown",
   "id": "77e8f636-550f-4561-af35-18ce09ee93d1",
   "metadata": {},
   "source": [
    "# Summary\n",
    "\n",
    "Our project is to build a classification model to predict if there's precipitation in a day (True or False) and a regression model to predict the amount of precipitation, based on features of temperature, wind speed, direction, shortwave radiation and evapotranspiration. The best classification model in our training and testing process is SVC-RBF with hyperparameter C=10.0. It yields the best test score of 0.8625 and f1-score of 0.87 on the positive class (there's precipitation) when generalizes to the unseen data. This is a pretty high accuracy to predict whether there's rain on a particular day. The best regression model trained with the same features to predict the amount of precipitaiton is SVR with gamma=0.1 and C=1000. It produces the best score on the unseen test data of 0.6993. The accuracy is adequate. More study could be done to improve the regression model."
   ]
  },
  {
   "cell_type": "markdown",
   "id": "0bba655a-7ccb-4aea-befb-6220cb0112bb",
   "metadata": {},
   "source": [
    "# 1. Introduction \n",
    "\n",
    "Prediction of daily precipitation is a fundamental aspect of meteorological studies {cite:p}`new2001precipitation`. Accurate precipitation prediction is crucial for agriculture, water resources management, as well as daily activities of people. Specifically, in a geographically and climatically diverse region like Vancouver, predicting precipitation is vital for people to prepare for extreme weather events, reducing hazards and minimizing property damage.\n",
    "\n",
    "In this project, we aim to predict the occurrence and the amount of daily precipitation in Vancouver using machine learning (ML) classification methods {cite:p}`ortiz2014accurate`. Specifically, our analysis utilizes a dataset containing daily precipitation information in Vancouver from 1990 to the present (i.e., 6 Nov, 2023). This dataset, sourced from Open-Meteo’s Historical Weather API {cite:p}`Zippenfenig2023open`, includes a number of parameters relevant to precipitation prediction. \n",
    "Key parameters include month, daily temperature measures, wind speeds, wind direction, shortwave radiation, and ET₀ reference evapotranspiration. Specifically, shortwave radiation represents the sum of solar energy received in a day; ET₀ reference evapotranspiration provides an indication of the atmospheric demand for moisture (i.e., higher relative humidity reduces ET₀ ); and month is also included as a variable since it accounts for the seasonal variations in precipitation {cite:p}`pal2000simulation`. This project may contributes insights into accurate forecast of the precipitation in Vancouver."
   ]
  },
  {
   "cell_type": "markdown",
   "id": "a00f6cd1-f62e-4daf-9c88-b317324bb88a",
   "metadata": {},
   "source": [
    "# 2. Methods & Results\n",
    "\n",
    "## 2.1 Data\n",
    "\n",
    "The dataset used in this project was sourced from Open-Meteo’s Historical Weather API [3], which can be found [here](https://open-meteo.com/en/docs/historical-weather-api#latitude=49.2497&longitude=-123.1193&hourly=weather_code&daily=weather_code,temperature_2m_max,temperature_2m_min,temperature_2m_mean,apparent_temperature_max,apparent_temperature_min,apparent_temperature_mean,sunrise,sunset,precipitation_sum,rain_sum,snowfall_sum,precipitation_hours,wind_speed_10m_max,wind_gusts_10m_max,wind_direction_10m_dominant,shortwave_radiation_sum,et0_fao_evapotranspiration&timezone=auto).Each row in the data set represents daily precipitation information in Vancouver with  various parameters relevant to precipitation. Parameters included in the following analysis are listed with a short description as follows.  \n",
    "\n",
    "Pulling in the data and creating a classification target column `is_precipitation` based on sum of daily precipitation `precipitation_sum`. If `precipitation_sum` is greater than 0.01, we assign True to `is_precipitation`, otherwise False. The reason we use 0.01 as the threshold for assigning the class is because 0.01 is insignificant and can be used to avoid rounding issue. `precipittion_sum` is the regression target column."
   ]
  },
  {
   "cell_type": "markdown",
   "id": "e4ce24ba-d3d1-4a7c-ae65-dc4e3c863f2a",
   "metadata": {},
   "source": [
    "#### Column description\n",
    "- `date`: date of the record\n",
    "- `temperature_2m_max`: Maximum daily air temperature at 2 meters above ground (°C)\n",
    "- `temperature_2m_min`: Minimum daily air temperature at 2 meters above ground (°C)\n",
    "- `temperature_2m_mean`: Mean daily air temperature at 2 meters above ground (°C)\n",
    "- `apparent_temperature_max`: Maximum daily apparent temperature (°C)\n",
    "- `apparent_temperature_min`: Minimum daily apparent temperature (°C)\n",
    "- `apparent_temperature_mean`: Mean daily apparent temperature (°C)\n",
    "- `precipitation_sum`: Sum of daily precipitation (including rain, showers and snowfall) (mm)\n",
    "- `wind_speed_10m_max`: Maximum wind speed on a day (km/h)\n",
    "- `wind_gusts_10m_max`: Maximum wind gusts on a day (km/h)\n",
    "- `wind_direction_10m_dominant`: Dominant wind direction (°)\n",
    "- `shortwave_radiation_sum`: The sum of solar radiaion on a given day in Megajoules (MJ/m²)\n",
    "- `et0_fao_evapotranspiration`: Daily sum of ET₀ Reference Evapotranspiration of a well watered grass field (mm)"
   ]
  },
  {
   "cell_type": "markdown",
   "id": "d12f83e3-4b1a-46f7-8dfc-63c8b97509e7",
   "metadata": {},
   "source": [
    "### EDA\n",
    "\n",
    "Plotting the distribution of each numeric columns. The temperature features are more like a normal distribution. Wind speed, radiation and evapotranspiration are slightly right-skewed. The wind direction feature seems to be bimodal."
   ]
  },
  {
   "cell_type": "markdown",
   "id": "236cb02c-edd2-4274-b113-69f23b93410a",
   "metadata": {},
   "source": [
    "Figure 1. Distribution of all numeric features in the dataset."
   ]
  },
  {
   "cell_type": "markdown",
   "id": "21b00a71-85ca-43f8-96a6-630194f11455",
   "metadata": {},
   "source": [
    "In below correlation matrix, we notice that temperatue features are highly correlated with each other. We can just use one temperature parameter in our analysis. Here we choose to use `temperature_2m_mean`. Similarly, winds features are also highly correlated. Hence we decide to keep `wind_speed_10m_max` and drop the other one to avoid collinearity issue. "
   ]
  },
  {
   "cell_type": "markdown",
   "id": "122fa462-7879-42bd-a730-a0d9e6f9aef7",
   "metadata": {},
   "source": [
    "Table 1. Correlation matrix between all numeric features in the dataset."
   ]
  },
  {
   "cell_type": "markdown",
   "id": "de207d41-93c2-42d0-b9d2-d289bef997a6",
   "metadata": {},
   "source": [
    "### 2.2.4 Select features for classification and further explore the relationship between the features of interest"
   ]
  },
  {
   "cell_type": "markdown",
   "id": "12b6a8b6-e601-4f6b-92f5-9528be0eb1a8",
   "metadata": {},
   "source": [
    "We are dropping the temperature features that are highly correlated with `temperature_2m_mean` and the wind feature that are highly correlated to `wind_speed_10m_max`. After cleaning up the data, we are going to predict `precipitation_sum` and `is_precipitation` using the feature `temperature_2m_mean`, `wind_speed_10m_max`, `wind_direction_10m_dominant`, `shortwave_radiation_sum`, `et0_fao_evapotranspiration` and `month`."
   ]
  },
  {
   "cell_type": "markdown",
   "id": "4a6d55ff-4c34-4ed0-8819-9d52187df52e",
   "metadata": {},
   "source": [
    "Plotting the scatter charts for each feature vs the regression target precipitation_sum to investigate if there is any pattern present. In preliminary investigation, we notice there is no pattern standing out for temperature, wind speed and wind direction. However, shortwave radiation and evapotranspiration shows strong negative correlation with the precipitation amount precipitation_sum. We also notice for month January, February, October, November and December. This is expected because there are more rain in winter in Vancouver."
   ]
  },
  {
   "cell_type": "markdown",
   "id": "5337c15d-d610-46ce-9527-866308b603d1",
   "metadata": {},
   "source": [
    "Plotting a box plot for each feature vs the classification target `is_precipitation`. We notice `shortwave_radiation_sum` and `et0_fao_evapotranspiration` has different means for the False and True class. Radiation and evapotranspiration mean tends to be higher when there's no precipitation than when there's precipitation."
   ]
  },
  {
   "cell_type": "markdown",
   "id": "941f11da-9eff-4474-a875-d0b16be5e8cc",
   "metadata": {},
   "source": [
    "## 2.3 Classification analysis\n",
    "\n",
    "### 2.3.1 Splitting dateset\n",
    "We are splitting up the cleaned data into 80% training set and 20% test set."
   ]
  },
  {
   "cell_type": "markdown",
   "id": "3e14d88d-8cb2-4fff-b4d6-2843bf0e5219",
   "metadata": {},
   "source": [
    "### 2.3.3 Model selection"
   ]
  },
  {
   "cell_type": "markdown",
   "id": "5a7f8725-f78a-4b36-b370-701b51503733",
   "metadata": {},
   "source": [
    "Based on accuracy, test_recall, and test_precision, **RBF SVM** is the best performing model. We will take a look at it for future hyperparameter optimization."
   ]
  },
  {
   "cell_type": "markdown",
   "id": "7b26fd8f-1935-4cfd-8f5c-6562a0c56583",
   "metadata": {},
   "source": [
    "### 2.3.4 Feature importance\n",
    "\n",
    "Meanwhile, let us take a sidetrack and find out which features are important by looking at the feature importance via logistic regression. It is difficult to interpret feature importance of SVC fitted via RBF."
   ]
  },
  {
   "cell_type": "markdown",
   "id": "6404e9c9-395b-4800-90df-b775889bf61d",
   "metadata": {},
   "source": [
    "Figure 4. Feature importance obtained from the logistic regression model."
   ]
  },
  {
   "cell_type": "markdown",
   "id": "15fc0c6c-8cde-465d-8322-6733eafb6815",
   "metadata": {},
   "source": [
    "Month and `et0_fao_evapotranspiration` are the most important features."
   ]
  },
  {
   "cell_type": "markdown",
   "id": "1d45260b-a7ed-4c6e-b140-35113bb86518",
   "metadata": {},
   "source": [
    "### 2.3.5 Hyperparameter optimization for the best model\n",
    "As shown below, our best Model is the one with C=10.0, since it gives highest test_score."
   ]
  },
  {
   "cell_type": "markdown",
   "id": "73a680db-a6fd-4449-a9d5-83f99682c853",
   "metadata": {},
   "source": [
    "# 3. Discussion"
   ]
  },
  {
   "cell_type": "markdown",
   "id": "01a74a71-dedb-42bd-aedc-469cf5df1654",
   "metadata": {},
   "source": [
    "The best classification model in our training and testing process is SVC-RBF with hyperparameter C=10.0. It yields the best test score of 0.8625 and f1-score of 0.87 on the positive class (precipitation occurs on the day) when generalizes to the unseen data. This is a pretty high accuracy to predict whether there's rain on a particular day. \n",
    "\n",
    "The best regression model trained with the same features to predict the amount of precipitaiton is SVR with gamma=0.1 and C=1000. The score on the unseen test data is 0.6993, which is adequate. This result suggest more study (e.g., adding new features) could be done to improve the regression model."
   ]
  },
  {
   "cell_type": "markdown",
   "id": "f4d8d70f-7ea4-414b-a467-e07288bed5ab",
   "metadata": {},
   "source": [
    "# References"
   ]
  },
  {
   "cell_type": "markdown",
   "id": "f4e868b3-85da-4877-9638-761af93e2cd9",
   "metadata": {},
   "source": [
    "```{bibliography}\n",
    "```"
   ]
  },
  {
   "cell_type": "code",
   "execution_count": null,
   "id": "09db9d30-be1f-4268-bb54-9da166b0a84a",
   "metadata": {},
   "outputs": [],
   "source": []
  }
 ],
 "metadata": {
  "kernelspec": {
   "display_name": "Python 3 (ipykernel)",
   "language": "python",
   "name": "python3"
  },
  "language_info": {
   "codemirror_mode": {
    "name": "ipython",
    "version": 3
   },
   "file_extension": ".py",
   "mimetype": "text/x-python",
   "name": "python",
   "nbconvert_exporter": "python",
   "pygments_lexer": "ipython3",
   "version": "3.11.6"
  }
 },
 "nbformat": 4,
 "nbformat_minor": 5
}
