{
 "cells": [
  {
   "cell_type": "code",
   "execution_count": 93,
   "metadata": {},
   "outputs": [],
   "source": [
    "import numpy as np\n",
    "import pandas as pd\n",
    "\n",
    "# Classifiers and regressors\n",
    "from sklearn.dummy import DummyClassifier\n",
    "\n",
    "# train test split and cross validation\n",
    "from sklearn.model_selection import cross_val_score, cross_validate, train_test_split\n",
    "from sklearn.neighbors import KNeighborsClassifier\n",
    "from sklearn.pipeline import Pipeline, make_pipeline\n",
    "from sklearn.preprocessing import StandardScaler\n",
    "from sklearn.svm import SVC\n",
    "from sklearn.tree import DecisionTreeClassifier\n",
    "from sklearn.linear_model import LogisticRegression\n",
    "from sklearn.model_selection import GridSearchCV\n",
    "\n",
    "import os"
   ]
  },
  {
   "cell_type": "code",
   "execution_count": 68,
   "metadata": {},
   "outputs": [
    {
     "name": "stdout",
     "output_type": "stream",
     "text": [
      "['van_weather_1990-01-01_2023-11-06.csv', 'van_weather_2013-01-01_2023-11-09_hr.csv']\n"
     ]
    }
   ],
   "source": [
    "# Check that the dataset exists\n",
    "print(os.listdir(\"data/\"))"
   ]
  },
  {
   "cell_type": "code",
   "execution_count": 69,
   "metadata": {},
   "outputs": [],
   "source": [
    "daily_data = pd.read_csv('data/van_weather_1990-01-01_2023-11-06.csv')"
   ]
  },
  {
   "cell_type": "code",
   "execution_count": 70,
   "metadata": {},
   "outputs": [
    {
     "data": {
      "text/html": [
       "<div>\n",
       "<style scoped>\n",
       "    .dataframe tbody tr th:only-of-type {\n",
       "        vertical-align: middle;\n",
       "    }\n",
       "\n",
       "    .dataframe tbody tr th {\n",
       "        vertical-align: top;\n",
       "    }\n",
       "\n",
       "    .dataframe thead th {\n",
       "        text-align: right;\n",
       "    }\n",
       "</style>\n",
       "<table border=\"1\" class=\"dataframe\">\n",
       "  <thead>\n",
       "    <tr style=\"text-align: right;\">\n",
       "      <th></th>\n",
       "      <th>date</th>\n",
       "      <th>weather_code</th>\n",
       "      <th>temperature_2m_max</th>\n",
       "      <th>temperature_2m_min</th>\n",
       "      <th>temperature_2m_mean</th>\n",
       "      <th>apparent_temperature_max</th>\n",
       "      <th>apparent_temperature_min</th>\n",
       "      <th>apparent_temperature_mean</th>\n",
       "      <th>sunrise</th>\n",
       "      <th>sunset</th>\n",
       "      <th>precipitation_sum</th>\n",
       "      <th>rain_sum</th>\n",
       "      <th>snowfall_sum</th>\n",
       "      <th>precipitation_hours</th>\n",
       "      <th>wind_speed_10m_max</th>\n",
       "      <th>wind_gusts_10m_max</th>\n",
       "      <th>wind_direction_10m_dominant</th>\n",
       "      <th>shortwave_radiation_sum</th>\n",
       "      <th>et0_fao_evapotranspiration</th>\n",
       "    </tr>\n",
       "  </thead>\n",
       "  <tbody>\n",
       "    <tr>\n",
       "      <th>0</th>\n",
       "      <td>1990-01-01</td>\n",
       "      <td>51.0</td>\n",
       "      <td>5.7095</td>\n",
       "      <td>2.0095</td>\n",
       "      <td>3.903249</td>\n",
       "      <td>1.759364</td>\n",
       "      <td>-2.227180</td>\n",
       "      <td>0.155060</td>\n",
       "      <td>0</td>\n",
       "      <td>0</td>\n",
       "      <td>1.600000</td>\n",
       "      <td>1.600000</td>\n",
       "      <td>0.00</td>\n",
       "      <td>7.0</td>\n",
       "      <td>18.250260</td>\n",
       "      <td>35.280000</td>\n",
       "      <td>222.90671</td>\n",
       "      <td>4.09</td>\n",
       "      <td>0.504341</td>\n",
       "    </tr>\n",
       "    <tr>\n",
       "      <th>1</th>\n",
       "      <td>1990-01-02</td>\n",
       "      <td>71.0</td>\n",
       "      <td>3.0595</td>\n",
       "      <td>0.0095</td>\n",
       "      <td>1.959500</td>\n",
       "      <td>-0.347375</td>\n",
       "      <td>-2.789511</td>\n",
       "      <td>-1.547468</td>\n",
       "      <td>0</td>\n",
       "      <td>0</td>\n",
       "      <td>1.000000</td>\n",
       "      <td>0.700000</td>\n",
       "      <td>0.21</td>\n",
       "      <td>5.0</td>\n",
       "      <td>12.261158</td>\n",
       "      <td>28.800000</td>\n",
       "      <td>171.74966</td>\n",
       "      <td>3.29</td>\n",
       "      <td>0.467342</td>\n",
       "    </tr>\n",
       "    <tr>\n",
       "      <th>2</th>\n",
       "      <td>1990-01-03</td>\n",
       "      <td>73.0</td>\n",
       "      <td>4.4095</td>\n",
       "      <td>1.9595</td>\n",
       "      <td>2.934500</td>\n",
       "      <td>1.055596</td>\n",
       "      <td>-1.572106</td>\n",
       "      <td>-0.585330</td>\n",
       "      <td>0</td>\n",
       "      <td>0</td>\n",
       "      <td>11.400002</td>\n",
       "      <td>10.600001</td>\n",
       "      <td>0.56</td>\n",
       "      <td>24.0</td>\n",
       "      <td>17.555307</td>\n",
       "      <td>34.560000</td>\n",
       "      <td>141.70381</td>\n",
       "      <td>1.89</td>\n",
       "      <td>0.201307</td>\n",
       "    </tr>\n",
       "    <tr>\n",
       "      <th>3</th>\n",
       "      <td>1990-01-04</td>\n",
       "      <td>61.0</td>\n",
       "      <td>7.3595</td>\n",
       "      <td>3.2095</td>\n",
       "      <td>4.917833</td>\n",
       "      <td>3.778481</td>\n",
       "      <td>0.573077</td>\n",
       "      <td>1.792292</td>\n",
       "      <td>0</td>\n",
       "      <td>0</td>\n",
       "      <td>12.599999</td>\n",
       "      <td>12.599999</td>\n",
       "      <td>0.00</td>\n",
       "      <td>14.0</td>\n",
       "      <td>18.806337</td>\n",
       "      <td>38.160000</td>\n",
       "      <td>162.86450</td>\n",
       "      <td>2.43</td>\n",
       "      <td>0.277709</td>\n",
       "    </tr>\n",
       "    <tr>\n",
       "      <th>4</th>\n",
       "      <td>1990-01-05</td>\n",
       "      <td>63.0</td>\n",
       "      <td>8.3595</td>\n",
       "      <td>3.6595</td>\n",
       "      <td>5.892833</td>\n",
       "      <td>4.432674</td>\n",
       "      <td>0.000019</td>\n",
       "      <td>2.062605</td>\n",
       "      <td>0</td>\n",
       "      <td>0</td>\n",
       "      <td>17.699999</td>\n",
       "      <td>17.699999</td>\n",
       "      <td>0.00</td>\n",
       "      <td>17.0</td>\n",
       "      <td>32.919827</td>\n",
       "      <td>64.439995</td>\n",
       "      <td>159.80486</td>\n",
       "      <td>0.64</td>\n",
       "      <td>0.168201</td>\n",
       "    </tr>\n",
       "  </tbody>\n",
       "</table>\n",
       "</div>"
      ],
      "text/plain": [
       "         date  weather_code  temperature_2m_max  temperature_2m_min  \\\n",
       "0  1990-01-01          51.0              5.7095              2.0095   \n",
       "1  1990-01-02          71.0              3.0595              0.0095   \n",
       "2  1990-01-03          73.0              4.4095              1.9595   \n",
       "3  1990-01-04          61.0              7.3595              3.2095   \n",
       "4  1990-01-05          63.0              8.3595              3.6595   \n",
       "\n",
       "   temperature_2m_mean  apparent_temperature_max  apparent_temperature_min  \\\n",
       "0             3.903249                  1.759364                 -2.227180   \n",
       "1             1.959500                 -0.347375                 -2.789511   \n",
       "2             2.934500                  1.055596                 -1.572106   \n",
       "3             4.917833                  3.778481                  0.573077   \n",
       "4             5.892833                  4.432674                  0.000019   \n",
       "\n",
       "   apparent_temperature_mean  sunrise  sunset  precipitation_sum   rain_sum  \\\n",
       "0                   0.155060        0       0           1.600000   1.600000   \n",
       "1                  -1.547468        0       0           1.000000   0.700000   \n",
       "2                  -0.585330        0       0          11.400002  10.600001   \n",
       "3                   1.792292        0       0          12.599999  12.599999   \n",
       "4                   2.062605        0       0          17.699999  17.699999   \n",
       "\n",
       "   snowfall_sum  precipitation_hours  wind_speed_10m_max  wind_gusts_10m_max  \\\n",
       "0          0.00                  7.0           18.250260           35.280000   \n",
       "1          0.21                  5.0           12.261158           28.800000   \n",
       "2          0.56                 24.0           17.555307           34.560000   \n",
       "3          0.00                 14.0           18.806337           38.160000   \n",
       "4          0.00                 17.0           32.919827           64.439995   \n",
       "\n",
       "   wind_direction_10m_dominant  shortwave_radiation_sum  \\\n",
       "0                    222.90671                     4.09   \n",
       "1                    171.74966                     3.29   \n",
       "2                    141.70381                     1.89   \n",
       "3                    162.86450                     2.43   \n",
       "4                    159.80486                     0.64   \n",
       "\n",
       "   et0_fao_evapotranspiration  \n",
       "0                    0.504341  \n",
       "1                    0.467342  \n",
       "2                    0.201307  \n",
       "3                    0.277709  \n",
       "4                    0.168201  "
      ]
     },
     "execution_count": 70,
     "metadata": {},
     "output_type": "execute_result"
    }
   ],
   "source": [
    "daily_data.head()"
   ]
  },
  {
   "cell_type": "markdown",
   "metadata": {},
   "source": [
    "We are trying to predict (rainfall) from other variables.\n",
    "\n",
    "Taking a quick look at the target variables (the y)\n",
    "\n",
    "Model A: predicting whether there is precipitation (rainfall + snowfall) from other variables\n",
    "\n",
    "Model B: predicting whether there is snowfall from other variables\n"
   ]
  },
  {
   "cell_type": "code",
   "execution_count": 71,
   "metadata": {},
   "outputs": [
    {
     "name": "stdout",
     "output_type": "stream",
     "text": [
      "The total number of data we are looking at is: 12363\n"
     ]
    }
   ],
   "source": [
    "print(\"The total number of data we are looking at is:\", daily_data.shape[0])"
   ]
  },
  {
   "cell_type": "code",
   "execution_count": 72,
   "metadata": {},
   "outputs": [
    {
     "data": {
      "text/plain": [
       "is_precipitation\n",
       "True     6828\n",
       "False    5535\n",
       "Name: count, dtype: int64"
      ]
     },
     "execution_count": 72,
     "metadata": {},
     "output_type": "execute_result"
    }
   ],
   "source": [
    "# Precipitation prediction is a classification problem with almost equal percentage of days with precipitation no precipiation\n",
    "daily_data['is_precipitation'] = daily_data['precipitation_sum'] > 0.01\n",
    "daily_data['is_precipitation'].value_counts()"
   ]
  },
  {
   "cell_type": "code",
   "execution_count": 73,
   "metadata": {},
   "outputs": [
    {
     "data": {
      "text/plain": [
       "is_snow\n",
       "False    11635\n",
       "True       728\n",
       "Name: count, dtype: int64"
      ]
     },
     "execution_count": 73,
     "metadata": {},
     "output_type": "execute_result"
    }
   ],
   "source": [
    "# Snowfall precipitation is a classification problem with very little positive data, we will take note of this inequality as we run the models.\n",
    "daily_data['is_snow'] = daily_data['snowfall_sum'] > 0.01\n",
    "daily_data['is_snow'].value_counts()\n"
   ]
  },
  {
   "cell_type": "code",
   "execution_count": 74,
   "metadata": {},
   "outputs": [
    {
     "data": {
      "text/plain": [
       "date                           0\n",
       "weather_code                   0\n",
       "temperature_2m_max             0\n",
       "temperature_2m_min             0\n",
       "temperature_2m_mean            0\n",
       "apparent_temperature_max       0\n",
       "apparent_temperature_min       0\n",
       "apparent_temperature_mean      0\n",
       "sunrise                        0\n",
       "sunset                         0\n",
       "precipitation_sum              0\n",
       "rain_sum                       0\n",
       "snowfall_sum                   0\n",
       "precipitation_hours            0\n",
       "wind_speed_10m_max             0\n",
       "wind_gusts_10m_max             0\n",
       "wind_direction_10m_dominant    0\n",
       "shortwave_radiation_sum        0\n",
       "et0_fao_evapotranspiration     0\n",
       "is_precipitation               0\n",
       "is_snow                        0\n",
       "dtype: int64"
      ]
     },
     "execution_count": 74,
     "metadata": {},
     "output_type": "execute_result"
    }
   ],
   "source": [
    "# There is no missing data: imputation not required. \n",
    "daily_data.isna().sum()"
   ]
  },
  {
   "cell_type": "code",
   "execution_count": 75,
   "metadata": {},
   "outputs": [
    {
     "name": "stdout",
     "output_type": "stream",
     "text": [
      "['date', 'weather_code', 'temperature_2m_max', 'temperature_2m_min', 'temperature_2m_mean', 'apparent_temperature_max', 'apparent_temperature_min', 'apparent_temperature_mean', 'sunrise', 'sunset', 'precipitation_sum', 'rain_sum', 'snowfall_sum', 'precipitation_hours', 'wind_speed_10m_max', 'wind_gusts_10m_max', 'wind_direction_10m_dominant', 'shortwave_radiation_sum', 'et0_fao_evapotranspiration', 'is_precipitation', 'is_snow']\n"
     ]
    }
   ],
   "source": [
    "print(list(daily_data.columns))"
   ]
  },
  {
   "cell_type": "markdown",
   "metadata": {},
   "source": [
    "### A quick summary of variables\n",
    "\n",
    "List of target variables:\n",
    "- is_precipitation\n",
    "- is_snow\n",
    "\n",
    "List of variables to drop:\n",
    "- Date: Using this will overcomplicate the current model. We may explore this in further study with time-series related models. \n",
    "- Weather code: This will say whether there is precipitation (e.g. code 20-29 means there is precipitation) \n",
    "- Select only 'temperature_2m_mean' out of all the temperature related variables, and 'wind_speed_10m_max' from ['wind_speed_10m_max', 'wind_gusts_10m_max'].\n",
    "\n",
    "{Code definition: https://www.nodc.noaa.gov/archive/arc0021/0002199/1.1/data/0-data/HTML/WMO-CODE/WMO4677.HTM}\n",
    "- Precipitation_sum, rain_sum, snowfall_sum, precipitation_hours are dropped because they can be used to derive if there is precipiation/ snowfall directly. \n",
    "- Sunrise and sunset columns are dropped as they all show 0.\n",
    "\n",
    "List of prediction variables:\n",
    "- Month\n",
    "- The rest of the columns"
   ]
  },
  {
   "cell_type": "code",
   "execution_count": 76,
   "metadata": {},
   "outputs": [],
   "source": [
    "from datetime import datetime as dt\n",
    "\n",
    "daily_data['date'] = pd.to_datetime(daily_data['date'])\n",
    "daily_data['month'] = daily_data['date'].dt.month\n",
    "\n",
    "# Using ordinal encoding  or leaving the month as a number may not be the best representation of month. \n",
    "# Since month is a cyclical data, we get inspiration from this work and use cyclical encoding: \n",
    "# https://www.kaggle.com/code/avanwyk/encoding-cyclical-features-for-deep-learning\n",
    "# This preprocessing does not break golden rule because the max value of months is 12 as per common knowledge. \n",
    "\n",
    "def encode(data, col, max_val):\n",
    "    data[col + '_sin'] = np.sin(2 * np.pi * data[col]/max_val)\n",
    "    data[col + '_cos'] = np.cos(2 * np.pi * data[col]/max_val)\n",
    "    return data\n",
    "\n",
    "daily_data = encode(daily_data, 'month', 12)\n",
    " "
   ]
  },
  {
   "cell_type": "code",
   "execution_count": 77,
   "metadata": {},
   "outputs": [
    {
     "data": {
      "text/html": [
       "<div>\n",
       "<style scoped>\n",
       "    .dataframe tbody tr th:only-of-type {\n",
       "        vertical-align: middle;\n",
       "    }\n",
       "\n",
       "    .dataframe tbody tr th {\n",
       "        vertical-align: top;\n",
       "    }\n",
       "\n",
       "    .dataframe thead th {\n",
       "        text-align: right;\n",
       "    }\n",
       "</style>\n",
       "<table border=\"1\" class=\"dataframe\">\n",
       "  <thead>\n",
       "    <tr style=\"text-align: right;\">\n",
       "      <th></th>\n",
       "      <th>temperature_2m_mean</th>\n",
       "      <th>wind_speed_10m_max</th>\n",
       "      <th>wind_direction_10m_dominant</th>\n",
       "      <th>shortwave_radiation_sum</th>\n",
       "      <th>et0_fao_evapotranspiration</th>\n",
       "      <th>month_sin</th>\n",
       "      <th>month_cos</th>\n",
       "    </tr>\n",
       "  </thead>\n",
       "  <tbody>\n",
       "    <tr>\n",
       "      <th>4428</th>\n",
       "      <td>3.924084</td>\n",
       "      <td>7.594207</td>\n",
       "      <td>7.625911</td>\n",
       "      <td>10.56</td>\n",
       "      <td>1.169531</td>\n",
       "      <td>8.660254e-01</td>\n",
       "      <td>5.000000e-01</td>\n",
       "    </tr>\n",
       "    <tr>\n",
       "      <th>1182</th>\n",
       "      <td>6.765750</td>\n",
       "      <td>7.636753</td>\n",
       "      <td>144.196550</td>\n",
       "      <td>18.07</td>\n",
       "      <td>2.278618</td>\n",
       "      <td>1.000000e+00</td>\n",
       "      <td>6.123234e-17</td>\n",
       "    </tr>\n",
       "    <tr>\n",
       "      <th>12221</th>\n",
       "      <td>12.353417</td>\n",
       "      <td>21.398056</td>\n",
       "      <td>272.093350</td>\n",
       "      <td>26.07</td>\n",
       "      <td>3.796273</td>\n",
       "      <td>1.224647e-16</td>\n",
       "      <td>-1.000000e+00</td>\n",
       "    </tr>\n",
       "    <tr>\n",
       "      <th>4197</th>\n",
       "      <td>14.947000</td>\n",
       "      <td>8.311245</td>\n",
       "      <td>235.980600</td>\n",
       "      <td>31.24</td>\n",
       "      <td>4.915466</td>\n",
       "      <td>1.224647e-16</td>\n",
       "      <td>-1.000000e+00</td>\n",
       "    </tr>\n",
       "    <tr>\n",
       "      <th>7352</th>\n",
       "      <td>5.453250</td>\n",
       "      <td>12.758432</td>\n",
       "      <td>349.729030</td>\n",
       "      <td>11.33</td>\n",
       "      <td>1.357648</td>\n",
       "      <td>8.660254e-01</td>\n",
       "      <td>5.000000e-01</td>\n",
       "    </tr>\n",
       "  </tbody>\n",
       "</table>\n",
       "</div>"
      ],
      "text/plain": [
       "       temperature_2m_mean  wind_speed_10m_max  wind_direction_10m_dominant  \\\n",
       "4428              3.924084            7.594207                     7.625911   \n",
       "1182              6.765750            7.636753                   144.196550   \n",
       "12221            12.353417           21.398056                   272.093350   \n",
       "4197             14.947000            8.311245                   235.980600   \n",
       "7352              5.453250           12.758432                   349.729030   \n",
       "\n",
       "       shortwave_radiation_sum  et0_fao_evapotranspiration     month_sin  \\\n",
       "4428                     10.56                    1.169531  8.660254e-01   \n",
       "1182                     18.07                    2.278618  1.000000e+00   \n",
       "12221                    26.07                    3.796273  1.224647e-16   \n",
       "4197                     31.24                    4.915466  1.224647e-16   \n",
       "7352                     11.33                    1.357648  8.660254e-01   \n",
       "\n",
       "          month_cos  \n",
       "4428   5.000000e-01  \n",
       "1182   6.123234e-17  \n",
       "12221 -1.000000e+00  \n",
       "4197  -1.000000e+00  \n",
       "7352   5.000000e-01  "
      ]
     },
     "execution_count": 77,
     "metadata": {},
     "output_type": "execute_result"
    }
   ],
   "source": [
    "Usable_cols = ['temperature_2m_mean', 'wind_speed_10m_max', \n",
    "                'wind_direction_10m_dominant', 'shortwave_radiation_sum', 'et0_fao_evapotranspiration', \n",
    "               'is_precipitation', 'is_snow', 'month_sin', 'month_cos']\n",
    "df = daily_data[Usable_cols].copy()\n",
    "train_df, test_df = train_test_split(df, test_size=0.2, shuffle=True, random_state=522)\n",
    "\n",
    "#Here we train with target variables 'is_precipitation' first\n",
    "\n",
    "X_train = train_df.drop(columns=['is_precipitation', 'is_snow'])\n",
    "y_train = train_df['is_precipitation']\n",
    "X_test = test_df.drop(columns=['is_precipitation', 'is_snow'])\n",
    "y_test = test_df['is_precipitation']\n",
    "\n",
    "X_train.head()\n"
   ]
  },
  {
   "cell_type": "code",
   "execution_count": 78,
   "metadata": {},
   "outputs": [],
   "source": [
    "# Defining the function to calculate score for cross validation (credit to DSCI571)\n",
    "def mean_std_cross_val_scores(model, X_train, y_train, **kwargs):\n",
    "    \"\"\"\n",
    "    Returns mean and std of cross validation\n",
    "\n",
    "    Parameters\n",
    "    ----------\n",
    "    model :\n",
    "        scikit-learn model\n",
    "    X_train : numpy array or pandas DataFrame\n",
    "        X in the training data\n",
    "    y_train :\n",
    "        y in the training data\n",
    "\n",
    "    Returns\n",
    "    ----------\n",
    "        pandas Series with mean scores from cross_validation\n",
    "    \"\"\"\n",
    "\n",
    "    scores = cross_validate(model, X_train, y_train, **kwargs)\n",
    "\n",
    "    mean_scores = pd.DataFrame(scores).mean()\n",
    "    std_scores = pd.DataFrame(scores).std()\n",
    "    out_col = []\n",
    "\n",
    "    for i in range(len(mean_scores)):\n",
    "        out_col.append((f\"%0.3f (+/- %0.3f)\" % (mean_scores.iloc[i], std_scores.iloc[i])))\n",
    "\n",
    "    print(out_col)\n",
    "    return pd.Series(data=out_col, index=mean_scores.index)"
   ]
  },
  {
   "cell_type": "code",
   "execution_count": 79,
   "metadata": {},
   "outputs": [
    {
     "name": "stdout",
     "output_type": "stream",
     "text": [
      "['0.001 (+/- 0.001)', '0.002 (+/- 0.001)', '0.553 (+/- 0.000)', '0.553 (+/- 0.000)']\n",
      "Done with dummy\n"
     ]
    },
    {
     "name": "stdout",
     "output_type": "stream",
     "text": [
      "['0.070 (+/- 0.002)', '0.001 (+/- 0.000)', '0.797 (+/- 0.008)', '1.000 (+/- 0.000)']\n",
      "Done with Decision Tree\n",
      "['0.006 (+/- 0.001)', '0.038 (+/- 0.001)', '0.836 (+/- 0.007)', '0.885 (+/- 0.002)']\n",
      "Done with KNN\n",
      "['0.499 (+/- 0.004)', '0.241 (+/- 0.004)', '0.859 (+/- 0.008)', '0.863 (+/- 0.002)']\n",
      "Done with RBF SVM\n",
      "['0.016 (+/- 0.002)', '0.001 (+/- 0.001)', '0.844 (+/- 0.011)', '0.845 (+/- 0.003)']\n",
      "Done with Logistic Regression\n"
     ]
    },
    {
     "data": {
      "text/html": [
       "<div>\n",
       "<style scoped>\n",
       "    .dataframe tbody tr th:only-of-type {\n",
       "        vertical-align: middle;\n",
       "    }\n",
       "\n",
       "    .dataframe tbody tr th {\n",
       "        vertical-align: top;\n",
       "    }\n",
       "\n",
       "    .dataframe thead th {\n",
       "        text-align: right;\n",
       "    }\n",
       "</style>\n",
       "<table border=\"1\" class=\"dataframe\">\n",
       "  <thead>\n",
       "    <tr style=\"text-align: right;\">\n",
       "      <th></th>\n",
       "      <th>fit_time</th>\n",
       "      <th>score_time</th>\n",
       "      <th>test_score</th>\n",
       "      <th>train_score</th>\n",
       "    </tr>\n",
       "  </thead>\n",
       "  <tbody>\n",
       "    <tr>\n",
       "      <th>dummy</th>\n",
       "      <td>0.001 (+/- 0.001)</td>\n",
       "      <td>0.002 (+/- 0.001)</td>\n",
       "      <td>0.553 (+/- 0.000)</td>\n",
       "      <td>0.553 (+/- 0.000)</td>\n",
       "    </tr>\n",
       "    <tr>\n",
       "      <th>Decision Tree</th>\n",
       "      <td>0.070 (+/- 0.002)</td>\n",
       "      <td>0.001 (+/- 0.000)</td>\n",
       "      <td>0.797 (+/- 0.008)</td>\n",
       "      <td>1.000 (+/- 0.000)</td>\n",
       "    </tr>\n",
       "    <tr>\n",
       "      <th>KNN</th>\n",
       "      <td>0.006 (+/- 0.001)</td>\n",
       "      <td>0.038 (+/- 0.001)</td>\n",
       "      <td>0.836 (+/- 0.007)</td>\n",
       "      <td>0.885 (+/- 0.002)</td>\n",
       "    </tr>\n",
       "    <tr>\n",
       "      <th>RBF SVM</th>\n",
       "      <td>0.499 (+/- 0.004)</td>\n",
       "      <td>0.241 (+/- 0.004)</td>\n",
       "      <td>0.859 (+/- 0.008)</td>\n",
       "      <td>0.863 (+/- 0.002)</td>\n",
       "    </tr>\n",
       "    <tr>\n",
       "      <th>Logistic Regression</th>\n",
       "      <td>0.016 (+/- 0.002)</td>\n",
       "      <td>0.001 (+/- 0.001)</td>\n",
       "      <td>0.844 (+/- 0.011)</td>\n",
       "      <td>0.845 (+/- 0.003)</td>\n",
       "    </tr>\n",
       "  </tbody>\n",
       "</table>\n",
       "</div>"
      ],
      "text/plain": [
       "                              fit_time         score_time         test_score  \\\n",
       "dummy                0.001 (+/- 0.001)  0.002 (+/- 0.001)  0.553 (+/- 0.000)   \n",
       "Decision Tree        0.070 (+/- 0.002)  0.001 (+/- 0.000)  0.797 (+/- 0.008)   \n",
       "KNN                  0.006 (+/- 0.001)  0.038 (+/- 0.001)  0.836 (+/- 0.007)   \n",
       "RBF SVM              0.499 (+/- 0.004)  0.241 (+/- 0.004)  0.859 (+/- 0.008)   \n",
       "Logistic Regression  0.016 (+/- 0.002)  0.001 (+/- 0.001)  0.844 (+/- 0.011)   \n",
       "\n",
       "                           train_score  \n",
       "dummy                0.553 (+/- 0.000)  \n",
       "Decision Tree        1.000 (+/- 0.000)  \n",
       "KNN                  0.885 (+/- 0.002)  \n",
       "RBF SVM              0.863 (+/- 0.002)  \n",
       "Logistic Regression  0.845 (+/- 0.003)  "
      ]
     },
     "execution_count": 79,
     "metadata": {},
     "output_type": "execute_result"
    }
   ],
   "source": [
    "# All the features are numerical features to be standardized. Here, we will use standard scalar.\n",
    "preprocess = StandardScaler()\n",
    "\n",
    "# We will evaluate a set of models for this project\n",
    "models = {\n",
    "    \"dummy\": DummyClassifier(random_state=522), \n",
    "    \"Decision Tree\": DecisionTreeClassifier(random_state=522),\n",
    "    \"KNN\": KNeighborsClassifier(),\n",
    "    \"RBF SVM\": SVC(random_state=522),\n",
    "    \"Logistic Regression\": LogisticRegression(max_iter=2000, multi_class=\"ovr\", random_state=522),\n",
    "}\n",
    "\n",
    "output_list = []\n",
    "\n",
    "for model_name in models.keys():\n",
    "    model = models[model_name]\n",
    "    pipe = make_pipeline(preprocess, model)\n",
    "    output_list.append(mean_std_cross_val_scores(pipe,X_train,y_train,return_train_score=True))   \n",
    "    print(\"Done with\", model_name)\n",
    "\n",
    "results_df = pd.concat(output_list, axis=1)\n",
    "results_df.columns = models.keys()\n",
    "results_df = results_df.T\n",
    "...\n",
    "results_df"
   ]
  },
  {
   "cell_type": "markdown",
   "metadata": {},
   "source": [
    "# Oak to write something on which model is chosen"
   ]
  },
  {
   "cell_type": "markdown",
   "metadata": {},
   "source": [
    "We will be taking a look at Logistic Regression to identify feature importance, then we will be looking optimizing the hyper parameter for SBF SVM"
   ]
  },
  {
   "cell_type": "code",
   "execution_count": 80,
   "metadata": {},
   "outputs": [
    {
     "data": {
      "text/plain": [
       "<Axes: ylabel='Feature'>"
      ]
     },
     "execution_count": 80,
     "metadata": {},
     "output_type": "execute_result"
    },
    {
     "data": {
      "image/png": "[encoded data removed]",
      "text/plain": [
       "<Figure size 1000x600 with 1 Axes>"
      ]
     },
     "metadata": {},
     "output_type": "display_data"
    }
   ],
   "source": [
    "pipe = make_pipeline(preprocess, models[\"Logistic Regression\"])\n",
    "pipe.fit(X_train, y_train)\n",
    "\n",
    "coefficients = pipe.named_steps['logisticregression'].coef_[0]\n",
    "\n",
    "feature_importance = pd.DataFrame({'Feature': X_train.columns, 'Importance': np.abs(coefficients)})\n",
    "feature_importance = feature_importance.sort_values('Importance', ascending=True)\n",
    "feature_importance.plot(x='Feature', y='Importance', kind='barh', figsize=(10, 6))"
   ]
  },
  {
   "cell_type": "markdown",
   "metadata": {},
   "source": [
    "# Oak to write something on feature importance"
   ]
  },
  {
   "cell_type": "markdown",
   "metadata": {},
   "source": [
    "For the chosen model SVM, let us optimize the training parameter."
   ]
  },
  {
   "cell_type": "code",
   "execution_count": 81,
   "metadata": {},
   "outputs": [
    {
     "name": "stdout",
     "output_type": "stream",
     "text": [
      "['0.565 (+/- 0.009)', '0.292 (+/- 0.003)', '0.854 (+/- 0.004)', '0.855 (+/- 0.001)']\n",
      "['0.490 (+/- 0.011)', '0.241 (+/- 0.003)', '0.859 (+/- 0.008)', '0.863 (+/- 0.002)']\n",
      "['0.577 (+/- 0.016)', '0.226 (+/- 0.008)', '0.861 (+/- 0.008)', '0.869 (+/- 0.002)']\n",
      "['1.102 (+/- 0.061)', '0.218 (+/- 0.004)', '0.859 (+/- 0.007)', '0.876 (+/- 0.002)']\n"
     ]
    },
    {
     "data": {
      "text/html": [
       "<div>\n",
       "<style scoped>\n",
       "    .dataframe tbody tr th:only-of-type {\n",
       "        vertical-align: middle;\n",
       "    }\n",
       "\n",
       "    .dataframe tbody tr th {\n",
       "        vertical-align: top;\n",
       "    }\n",
       "\n",
       "    .dataframe thead th {\n",
       "        text-align: right;\n",
       "    }\n",
       "</style>\n",
       "<table border=\"1\" class=\"dataframe\">\n",
       "  <thead>\n",
       "    <tr style=\"text-align: right;\">\n",
       "      <th></th>\n",
       "      <th>fit_time</th>\n",
       "      <th>score_time</th>\n",
       "      <th>test_score</th>\n",
       "      <th>train_score</th>\n",
       "    </tr>\n",
       "  </thead>\n",
       "  <tbody>\n",
       "    <tr>\n",
       "      <th>0.1</th>\n",
       "      <td>0.565 (+/- 0.009)</td>\n",
       "      <td>0.292 (+/- 0.003)</td>\n",
       "      <td>0.854 (+/- 0.004)</td>\n",
       "      <td>0.855 (+/- 0.001)</td>\n",
       "    </tr>\n",
       "    <tr>\n",
       "      <th>1.0</th>\n",
       "      <td>0.490 (+/- 0.011)</td>\n",
       "      <td>0.241 (+/- 0.003)</td>\n",
       "      <td>0.859 (+/- 0.008)</td>\n",
       "      <td>0.863 (+/- 0.002)</td>\n",
       "    </tr>\n",
       "    <tr>\n",
       "      <th>10.0</th>\n",
       "      <td>0.577 (+/- 0.016)</td>\n",
       "      <td>0.226 (+/- 0.008)</td>\n",
       "      <td>0.861 (+/- 0.008)</td>\n",
       "      <td>0.869 (+/- 0.002)</td>\n",
       "    </tr>\n",
       "    <tr>\n",
       "      <th>100.0</th>\n",
       "      <td>1.102 (+/- 0.061)</td>\n",
       "      <td>0.218 (+/- 0.004)</td>\n",
       "      <td>0.859 (+/- 0.007)</td>\n",
       "      <td>0.876 (+/- 0.002)</td>\n",
       "    </tr>\n",
       "  </tbody>\n",
       "</table>\n",
       "</div>"
      ],
      "text/plain": [
       "                fit_time         score_time         test_score  \\\n",
       "0.1    0.565 (+/- 0.009)  0.292 (+/- 0.003)  0.854 (+/- 0.004)   \n",
       "1.0    0.490 (+/- 0.011)  0.241 (+/- 0.003)  0.859 (+/- 0.008)   \n",
       "10.0   0.577 (+/- 0.016)  0.226 (+/- 0.008)  0.861 (+/- 0.008)   \n",
       "100.0  1.102 (+/- 0.061)  0.218 (+/- 0.004)  0.859 (+/- 0.007)   \n",
       "\n",
       "             train_score  \n",
       "0.1    0.855 (+/- 0.001)  \n",
       "1.0    0.863 (+/- 0.002)  \n",
       "10.0   0.869 (+/- 0.002)  \n",
       "100.0  0.876 (+/- 0.002)  "
      ]
     },
     "execution_count": 81,
     "metadata": {},
     "output_type": "execute_result"
    }
   ],
   "source": [
    "param_grid = {\"C\": np.logspace(-1, 2, 4)}\n",
    "\n",
    "results_dict = {} \n",
    "\n",
    "for c_value in param_grid[\"C\"]:\n",
    "    pipe = make_pipeline(preprocess, SVC(C=c_value, random_state = 522))\n",
    "    results_dict[c_value] = mean_std_cross_val_scores(\n",
    "        pipe, X_train, y_train, cv=5, return_train_score=True\n",
    "    )   \n",
    "best_SVC_model_df = pd.DataFrame(results_dict).T\n",
    "best_SVC_model_df"
   ]
  },
  {
   "cell_type": "markdown",
   "metadata": {},
   "source": [
    "Best Model is the with C=10.0, since it gives highest test_score"
   ]
  },
  {
   "cell_type": "code",
   "execution_count": 82,
   "metadata": {},
   "outputs": [
    {
     "data": {
      "text/plain": [
       "0.862515163768702"
      ]
     },
     "execution_count": 82,
     "metadata": {},
     "output_type": "execute_result"
    }
   ],
   "source": [
    "C_best_value = 10\n",
    "opt_pipe = make_pipeline(preprocess, SVC(C=C_best_value, random_state = 522))\n",
    "opt_pipe.fit(X_train, y_train)\n",
    "opt_pipe.score(X_test, y_test)"
   ]
  },
  {
   "cell_type": "markdown",
   "metadata": {},
   "source": [
    "The eventual classification model can produce 0.863"
   ]
  },
  {
   "cell_type": "markdown",
   "metadata": {},
   "source": [
    "## Similar Pipe is run for snow prediction\n",
    "# But instead of just returning the model accuracy, we take a look at model recall/ precision too since the positive data is sparse"
   ]
  },
  {
   "cell_type": "code",
   "execution_count": 86,
   "metadata": {},
   "outputs": [],
   "source": [
    "y_train = train_df['is_snow']\n",
    "y_test = test_df['is_snow']"
   ]
  },
  {
   "cell_type": "code",
   "execution_count": 87,
   "metadata": {},
   "outputs": [],
   "source": [
    "def cross_val_model(model, X_train, y_train, classification_metrics):\n",
    "    pipe = make_pipeline(preprocess, models[model])\n",
    "    return pd.DataFrame(cross_validate(pipe, X_train, y_train, return_train_score=True, scoring=classification_metrics)).agg(['mean']).round(3).T\n"
   ]
  },
  {
   "cell_type": "code",
   "execution_count": 91,
   "metadata": {},
   "outputs": [
    {
     "name": "stdout",
     "output_type": "stream",
     "text": [
      "Done with Decision Tree\n",
      "Done with KNN\n",
      "Done with RBF SVM\n",
      "Done with Logistic Regression\n",
      "Done with SVC_bal\n",
      "Done with Log_bal\n"
     ]
    }
   ],
   "source": [
    "cross_val_results = {}\n",
    "classification_metrics = [\"accuracy\", \"precision\", \"recall\", \"f1\"]\n",
    "del models['dummy'] # Dummy model is removed since recall/precision calculation will be affected\n",
    "models['SVC_bal'] = SVC(random_state=522, class_weight=\"balanced\")\n",
    "models['Log_bal'] = LogisticRegression(random_state=522, max_iter=1000, class_weight=\"balanced\")\n",
    "\n",
    "for model_name in models.keys():\n",
    "    model = models[model_name]\n",
    "    pipe = make_pipeline(preprocess, model_name)\n",
    "    cross_val_results[model_name] = cross_val_model(model_name, X_train, y_train, classification_metrics)   \n",
    "    print(\"Done with\", model_name)"
   ]
  },
  {
   "cell_type": "code",
   "execution_count": 92,
   "metadata": {},
   "outputs": [
    {
     "data": {
      "text/html": [
       "<div>\n",
       "<style scoped>\n",
       "    .dataframe tbody tr th:only-of-type {\n",
       "        vertical-align: middle;\n",
       "    }\n",
       "\n",
       "    .dataframe tbody tr th {\n",
       "        vertical-align: top;\n",
       "    }\n",
       "\n",
       "    .dataframe thead tr th {\n",
       "        text-align: left;\n",
       "    }\n",
       "</style>\n",
       "<table border=\"1\" class=\"dataframe\">\n",
       "  <thead>\n",
       "    <tr>\n",
       "      <th></th>\n",
       "      <th>Decision Tree</th>\n",
       "      <th>KNN</th>\n",
       "      <th>RBF SVM</th>\n",
       "      <th>Logistic Regression</th>\n",
       "      <th>SVC_bal</th>\n",
       "      <th>Log_bal</th>\n",
       "    </tr>\n",
       "    <tr>\n",
       "      <th></th>\n",
       "      <th>mean</th>\n",
       "      <th>mean</th>\n",
       "      <th>mean</th>\n",
       "      <th>mean</th>\n",
       "      <th>mean</th>\n",
       "      <th>mean</th>\n",
       "    </tr>\n",
       "  </thead>\n",
       "  <tbody>\n",
       "    <tr>\n",
       "      <th>fit_time</th>\n",
       "      <td>0.037</td>\n",
       "      <td>0.007</td>\n",
       "      <td>0.136</td>\n",
       "      <td>0.023</td>\n",
       "      <td>0.304</td>\n",
       "      <td>0.025</td>\n",
       "    </tr>\n",
       "    <tr>\n",
       "      <th>score_time</th>\n",
       "      <td>0.001</td>\n",
       "      <td>0.043</td>\n",
       "      <td>0.075</td>\n",
       "      <td>0.004</td>\n",
       "      <td>0.151</td>\n",
       "      <td>0.001</td>\n",
       "    </tr>\n",
       "    <tr>\n",
       "      <th>test_accuracy</th>\n",
       "      <td>0.952</td>\n",
       "      <td>0.958</td>\n",
       "      <td>0.962</td>\n",
       "      <td>0.947</td>\n",
       "      <td>0.901</td>\n",
       "      <td>0.884</td>\n",
       "    </tr>\n",
       "    <tr>\n",
       "      <th>train_accuracy</th>\n",
       "      <td>1.000</td>\n",
       "      <td>0.970</td>\n",
       "      <td>0.963</td>\n",
       "      <td>0.947</td>\n",
       "      <td>0.904</td>\n",
       "      <td>0.885</td>\n",
       "    </tr>\n",
       "    <tr>\n",
       "      <th>test_precision</th>\n",
       "      <td>0.590</td>\n",
       "      <td>0.735</td>\n",
       "      <td>0.849</td>\n",
       "      <td>0.612</td>\n",
       "      <td>0.367</td>\n",
       "      <td>0.332</td>\n",
       "    </tr>\n",
       "    <tr>\n",
       "      <th>train_precision</th>\n",
       "      <td>1.000</td>\n",
       "      <td>0.877</td>\n",
       "      <td>0.870</td>\n",
       "      <td>0.607</td>\n",
       "      <td>0.379</td>\n",
       "      <td>0.334</td>\n",
       "    </tr>\n",
       "    <tr>\n",
       "      <th>test_recall</th>\n",
       "      <td>0.621</td>\n",
       "      <td>0.443</td>\n",
       "      <td>0.446</td>\n",
       "      <td>0.279</td>\n",
       "      <td>0.937</td>\n",
       "      <td>0.942</td>\n",
       "    </tr>\n",
       "    <tr>\n",
       "      <th>train_recall</th>\n",
       "      <td>1.000</td>\n",
       "      <td>0.568</td>\n",
       "      <td>0.447</td>\n",
       "      <td>0.271</td>\n",
       "      <td>0.968</td>\n",
       "      <td>0.949</td>\n",
       "    </tr>\n",
       "    <tr>\n",
       "      <th>test_f1</th>\n",
       "      <td>0.605</td>\n",
       "      <td>0.551</td>\n",
       "      <td>0.583</td>\n",
       "      <td>0.380</td>\n",
       "      <td>0.527</td>\n",
       "      <td>0.491</td>\n",
       "    </tr>\n",
       "    <tr>\n",
       "      <th>train_f1</th>\n",
       "      <td>1.000</td>\n",
       "      <td>0.689</td>\n",
       "      <td>0.590</td>\n",
       "      <td>0.375</td>\n",
       "      <td>0.545</td>\n",
       "      <td>0.495</td>\n",
       "    </tr>\n",
       "  </tbody>\n",
       "</table>\n",
       "</div>"
      ],
      "text/plain": [
       "                Decision Tree    KNN RBF SVM Logistic Regression SVC_bal  \\\n",
       "                         mean   mean    mean                mean    mean   \n",
       "fit_time                0.037  0.007   0.136               0.023   0.304   \n",
       "score_time              0.001  0.043   0.075               0.004   0.151   \n",
       "test_accuracy           0.952  0.958   0.962               0.947   0.901   \n",
       "train_accuracy          1.000  0.970   0.963               0.947   0.904   \n",
       "test_precision          0.590  0.735   0.849               0.612   0.367   \n",
       "train_precision         1.000  0.877   0.870               0.607   0.379   \n",
       "test_recall             0.621  0.443   0.446               0.279   0.937   \n",
       "train_recall            1.000  0.568   0.447               0.271   0.968   \n",
       "test_f1                 0.605  0.551   0.583               0.380   0.527   \n",
       "train_f1                1.000  0.689   0.590               0.375   0.545   \n",
       "\n",
       "                Log_bal  \n",
       "                   mean  \n",
       "fit_time          0.025  \n",
       "score_time        0.001  \n",
       "test_accuracy     0.884  \n",
       "train_accuracy    0.885  \n",
       "test_precision    0.332  \n",
       "train_precision   0.334  \n",
       "test_recall       0.942  \n",
       "train_recall      0.949  \n",
       "test_f1           0.491  \n",
       "train_f1          0.495  "
      ]
     },
     "execution_count": 92,
     "metadata": {},
     "output_type": "execute_result"
    }
   ],
   "source": [
    "pd.concat(\n",
    "    cross_val_results,\n",
    "    axis='columns'\n",
    ")"
   ]
  },
  {
   "cell_type": "markdown",
   "metadata": {},
   "source": [
    "Based on the F1 Score, we will choose RBF SVM\n",
    "However, if the cost of missing out a snow day is much higher than mis-classifying a non-snow day as snow day, we should go with SVC balanced model, as that gives recall of more than 09 while maintaining F1 above 0.5."
   ]
  },
  {
   "cell_type": "code",
   "execution_count": 97,
   "metadata": {},
   "outputs": [
    {
     "data": {
      "text/html": [
       "<style>#sk-container-id-4 {color: black;}#sk-container-id-4 pre{padding: 0;}#sk-container-id-4 div.sk-toggleable {background-color: white;}#sk-container-id-4 label.sk-toggleable__label {cursor: pointer;display: block;width: 100%;margin-bottom: 0;padding: 0.3em;box-sizing: border-box;text-align: center;}#sk-container-id-4 label.sk-toggleable__label-arrow:before {content: \"▸\";float: left;margin-right: 0.25em;color: #696969;}#sk-container-id-4 label.sk-toggleable__label-arrow:hover:before {color: black;}#sk-container-id-4 div.sk-estimator:hover label.sk-toggleable__label-arrow:before {color: black;}#sk-container-id-4 div.sk-toggleable__content {max-height: 0;max-width: 0;overflow: hidden;text-align: left;background-color: #f0f8ff;}#sk-container-id-4 div.sk-toggleable__content pre {margin: 0.2em;color: black;border-radius: 0.25em;background-color: #f0f8ff;}#sk-container-id-4 input.sk-toggleable__control:checked~div.sk-toggleable__content {max-height: 200px;max-width: 100%;overflow: auto;}#sk-container-id-4 input.sk-toggleable__control:checked~label.sk-toggleable__label-arrow:before {content: \"▾\";}#sk-container-id-4 div.sk-estimator input.sk-toggleable__control:checked~label.sk-toggleable__label {background-color: #d4ebff;}#sk-container-id-4 div.sk-label input.sk-toggleable__control:checked~label.sk-toggleable__label {background-color: #d4ebff;}#sk-container-id-4 input.sk-hidden--visually {border: 0;clip: rect(1px 1px 1px 1px);clip: rect(1px, 1px, 1px, 1px);height: 1px;margin: -1px;overflow: hidden;padding: 0;position: absolute;width: 1px;}#sk-container-id-4 div.sk-estimator {font-family: monospace;background-color: #f0f8ff;border: 1px dotted black;border-radius: 0.25em;box-sizing: border-box;margin-bottom: 0.5em;}#sk-container-id-4 div.sk-estimator:hover {background-color: #d4ebff;}#sk-container-id-4 div.sk-parallel-item::after {content: \"\";width: 100%;border-bottom: 1px solid gray;flex-grow: 1;}#sk-container-id-4 div.sk-label:hover label.sk-toggleable__label {background-color: #d4ebff;}#sk-container-id-4 div.sk-serial::before {content: \"\";position: absolute;border-left: 1px solid gray;box-sizing: border-box;top: 0;bottom: 0;left: 50%;z-index: 0;}#sk-container-id-4 div.sk-serial {display: flex;flex-direction: column;align-items: center;background-color: white;padding-right: 0.2em;padding-left: 0.2em;position: relative;}#sk-container-id-4 div.sk-item {position: relative;z-index: 1;}#sk-container-id-4 div.sk-parallel {display: flex;align-items: stretch;justify-content: center;background-color: white;position: relative;}#sk-container-id-4 div.sk-item::before, #sk-container-id-4 div.sk-parallel-item::before {content: \"\";position: absolute;border-left: 1px solid gray;box-sizing: border-box;top: 0;bottom: 0;left: 50%;z-index: -1;}#sk-container-id-4 div.sk-parallel-item {display: flex;flex-direction: column;z-index: 1;position: relative;background-color: white;}#sk-container-id-4 div.sk-parallel-item:first-child::after {align-self: flex-end;width: 50%;}#sk-container-id-4 div.sk-parallel-item:last-child::after {align-self: flex-start;width: 50%;}#sk-container-id-4 div.sk-parallel-item:only-child::after {width: 0;}#sk-container-id-4 div.sk-dashed-wrapped {border: 1px dashed gray;margin: 0 0.4em 0.5em 0.4em;box-sizing: border-box;padding-bottom: 0.4em;background-color: white;}#sk-container-id-4 div.sk-label label {font-family: monospace;font-weight: bold;display: inline-block;line-height: 1.2em;}#sk-container-id-4 div.sk-label-container {text-align: center;}#sk-container-id-4 div.sk-container {/* jupyter's `normalize.less` sets `[hidden] { display: none; }` but bootstrap.min.css set `[hidden] { display: none !important; }` so we also need the `!important` here to be able to override the default hidden behavior on the sphinx rendered scikit-learn.org. See: https://github.com/scikit-learn/scikit-learn/issues/21755 */display: inline-block !important;position: relative;}#sk-container-id-4 div.sk-text-repr-fallback {display: none;}</style><div id=\"sk-container-id-4\" class=\"sk-top-container\"><div class=\"sk-text-repr-fallback\"><pre>GridSearchCV(estimator=Pipeline(steps=[(&#x27;standardscaler&#x27;, StandardScaler()),\n",
       "                                       (&#x27;svc&#x27;,\n",
       "                                        SVC(class_weight=&#x27;balanced&#x27;,\n",
       "                                            random_state=522))]),\n",
       "             n_jobs=-1,\n",
       "             param_grid={&#x27;svc__C&#x27;: array([1.e-03, 1.e-02, 1.e-01, 1.e+00, 1.e+01, 1.e+02])},\n",
       "             refit=&#x27;f1&#x27;, return_train_score=True,\n",
       "             scoring=[&#x27;accuracy&#x27;, &#x27;precision&#x27;, &#x27;recall&#x27;, &#x27;f1&#x27;])</pre><b>In a Jupyter environment, please rerun this cell to show the HTML representation or trust the notebook. <br />On GitHub, the HTML representation is unable to render, please try loading this page with nbviewer.org.</b></div><div class=\"sk-container\" hidden><div class=\"sk-item sk-dashed-wrapped\"><div class=\"sk-label-container\"><div class=\"sk-label sk-toggleable\"><input class=\"sk-toggleable__control sk-hidden--visually\" id=\"sk-estimator-id-11\" type=\"checkbox\" ><label for=\"sk-estimator-id-11\" class=\"sk-toggleable__label sk-toggleable__label-arrow\">GridSearchCV</label><div class=\"sk-toggleable__content\"><pre>GridSearchCV(estimator=Pipeline(steps=[(&#x27;standardscaler&#x27;, StandardScaler()),\n",
       "                                       (&#x27;svc&#x27;,\n",
       "                                        SVC(class_weight=&#x27;balanced&#x27;,\n",
       "                                            random_state=522))]),\n",
       "             n_jobs=-1,\n",
       "             param_grid={&#x27;svc__C&#x27;: array([1.e-03, 1.e-02, 1.e-01, 1.e+00, 1.e+01, 1.e+02])},\n",
       "             refit=&#x27;f1&#x27;, return_train_score=True,\n",
       "             scoring=[&#x27;accuracy&#x27;, &#x27;precision&#x27;, &#x27;recall&#x27;, &#x27;f1&#x27;])</pre></div></div></div><div class=\"sk-parallel\"><div class=\"sk-parallel-item\"><div class=\"sk-item\"><div class=\"sk-label-container\"><div class=\"sk-label sk-toggleable\"><input class=\"sk-toggleable__control sk-hidden--visually\" id=\"sk-estimator-id-12\" type=\"checkbox\" ><label for=\"sk-estimator-id-12\" class=\"sk-toggleable__label sk-toggleable__label-arrow\">estimator: Pipeline</label><div class=\"sk-toggleable__content\"><pre>Pipeline(steps=[(&#x27;standardscaler&#x27;, StandardScaler()),\n",
       "                (&#x27;svc&#x27;, SVC(class_weight=&#x27;balanced&#x27;, random_state=522))])</pre></div></div></div><div class=\"sk-serial\"><div class=\"sk-item\"><div class=\"sk-serial\"><div class=\"sk-item\"><div class=\"sk-estimator sk-toggleable\"><input class=\"sk-toggleable__control sk-hidden--visually\" id=\"sk-estimator-id-13\" type=\"checkbox\" ><label for=\"sk-estimator-id-13\" class=\"sk-toggleable__label sk-toggleable__label-arrow\">StandardScaler</label><div class=\"sk-toggleable__content\"><pre>StandardScaler()</pre></div></div></div><div class=\"sk-item\"><div class=\"sk-estimator sk-toggleable\"><input class=\"sk-toggleable__control sk-hidden--visually\" id=\"sk-estimator-id-14\" type=\"checkbox\" ><label for=\"sk-estimator-id-14\" class=\"sk-toggleable__label sk-toggleable__label-arrow\">SVC</label><div class=\"sk-toggleable__content\"><pre>SVC(class_weight=&#x27;balanced&#x27;, random_state=522)</pre></div></div></div></div></div></div></div></div></div></div></div></div>"
      ],
      "text/plain": [
       "GridSearchCV(estimator=Pipeline(steps=[('standardscaler', StandardScaler()),\n",
       "                                       ('svc',\n",
       "                                        SVC(class_weight='balanced',\n",
       "                                            random_state=522))]),\n",
       "             n_jobs=-1,\n",
       "             param_grid={'svc__C': array([1.e-03, 1.e-02, 1.e-01, 1.e+00, 1.e+01, 1.e+02])},\n",
       "             refit='f1', return_train_score=True,\n",
       "             scoring=['accuracy', 'precision', 'recall', 'f1'])"
      ]
     },
     "execution_count": 97,
     "metadata": {},
     "output_type": "execute_result"
    }
   ],
   "source": [
    "# We chose the SVC balanced and run the hyperparameter optimization, just like the rain case. \n",
    "\n",
    "param_grid = {\"svc__C\": 10.0**np.arange(-3,3)}\n",
    "svc_bal_pipe = make_pipeline(preprocess, models['SVC_bal'])\n",
    "\n",
    "grid_search = GridSearchCV(svc_bal_pipe,param_grid=param_grid,n_jobs=-1,return_train_score=True,scoring=classification_metrics,refit=\"f1\")\n",
    "grid_search.fit(X_train, y_train)"
   ]
  },
  {
   "cell_type": "code",
   "execution_count": 98,
   "metadata": {},
   "outputs": [
    {
     "data": {
      "text/plain": [
       "{'svc__C': 100.0}"
      ]
     },
     "execution_count": 98,
     "metadata": {},
     "output_type": "execute_result"
    }
   ],
   "source": [
    "grid_search.best_params_"
   ]
  },
  {
   "cell_type": "code",
   "execution_count": 100,
   "metadata": {},
   "outputs": [
    {
     "name": "stdout",
     "output_type": "stream",
     "text": [
      "              precision    recall  f1-score   support\n",
      "\n",
      "        True       0.43      0.88      0.58       143\n",
      "       False       0.99      0.93      0.96      2330\n",
      "\n",
      "    accuracy                           0.93      2473\n",
      "   macro avg       0.71      0.91      0.77      2473\n",
      "weighted avg       0.96      0.93      0.94      2473\n",
      "\n"
     ]
    }
   ],
   "source": [
    "svc_pipe_final = make_pipeline(preprocess, SVC(C=100, random_state=123, class_weight=\"balanced\")) \n",
    "svc_pipe_final.fit(X_train, y_train)\n",
    "\n",
    "\n",
    "from sklearn.metrics import classification_report\n",
    "print(\n",
    "    classification_report(\n",
    "        y_test, svc_pipe_final.predict(X_test), labels=[True,False]\n",
    "    )\n",
    ")"
   ]
  }
 ],
 "metadata": {
  "kernelspec": {
   "display_name": "dsci_522_group9",
   "language": "python",
   "name": "python3"
  },
  "language_info": {
   "codemirror_mode": {
    "name": "ipython",
    "version": 3
   },
   "file_extension": ".py",
   "mimetype": "text/x-python",
   "name": "python",
   "nbconvert_exporter": "python",
   "pygments_lexer": "ipython3",
   "version": "3.11.6"
  }
 },
 "nbformat": 4,
 "nbformat_minor": 2
}
